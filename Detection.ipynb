{
 "cells": [
  {
   "cell_type": "code",
   "execution_count": 8,
   "id": "d7c5a70c",
   "metadata": {
    "collapsed": false,
    "jupyter": {
     "outputs_hidden": false
    },
    "pycharm": {
     "name": "#%%\n"
    }
   },
   "outputs": [],
   "source": [
    "import torch\n",
    "from torch.utils.data import DataLoader\n",
    "from yolo import Network\n",
    "from yolo.utils import plot\n",
    "from yolo.config import ArchitectureConfig\n",
    "import utils\n",
    "\n",
    "import warnings\n",
    "warnings.filterwarnings(\"ignore\")"
   ]
  },
  {
   "cell_type": "code",
   "execution_count": 10,
   "id": "a1c6a722-306f-49e1-9ba3-ea12473be4cf",
   "metadata": {},
   "outputs": [],
   "source": [
    "dataset = None  # TODO Load your dataset (i.e., a class inheriting from torch.utils.data.Dataset)\n",
    "ANCHORS = [[1.,2.,3.], [4.,5.,6.], [7.,8.,9.]]  # TODO Load your anchors (three anchors per each of the three scales is the default)\n",
    "data_loader = DataLoader(dataset, batch_size=1)\n",
    "\n",
    "scaled_anchors = torch.tensor(ANCHORS) / (1 / torch.tensor(dataset.grid_sizes).unsqueeze(1).unsqueeze(1).repeat(1, 3, 2))"
   ]
  },
  {
   "cell_type": "code",
   "execution_count": 11,
   "id": "6ccf4969-a65f-4a14-9d59-a3e540c0f904",
   "metadata": {},
   "outputs": [],
   "source": [
    "architecture_cfg = ArchitectureConfig.from_dict(utils.read_config_file(\"architecture\"))"
   ]
  },
  {
   "cell_type": "code",
   "execution_count": 12,
   "id": "edfeda89-092d-4eb8-9afa-995da2789131",
   "metadata": {},
   "outputs": [],
   "source": [
    "model = Network(architecture_cfg).to(utils.DEVICE)"
   ]
  },
  {
   "cell_type": "code",
   "execution_count": 13,
   "id": "7e39c173-f74a-4192-8233-f8a64185dca1",
   "metadata": {},
   "outputs": [],
   "source": [
    "utils.load_model(\"default.pth.tar\", model)  # TODO Load the best saved model (here we write default)"
   ]
  },
  {
   "cell_type": "code",
   "execution_count": null,
   "id": "db69029e-9cd6-4b5d-b685-f992e24ccf96",
   "metadata": {
    "pycharm": {
     "is_executing": true,
     "name": "#%%\n"
    }
   },
   "outputs": [],
   "source": [
    "img, y = next(iter(data_loader))\n",
    "prediction = model(img)\n",
    "print(\"Ground truth\")\n",
    "plot(img, y, scaled_anchors, is_pred=False)\n",
    "print(\"Predicted\")\n",
    "plot(img, prediction, scaled_anchors, is_pred=True)"
   ]
  }
 ],
 "metadata": {
  "kernelspec": {
   "display_name": "Python 3 (ipykernel)",
   "language": "python",
   "name": "python3"
  },
  "language_info": {
   "codemirror_mode": {
    "name": "ipython",
    "version": 3
   },
   "file_extension": ".py",
   "mimetype": "text/x-python",
   "name": "python",
   "nbconvert_exporter": "python",
   "pygments_lexer": "ipython3",
   "version": "3.9.10"
  }
 },
 "nbformat": 4,
 "nbformat_minor": 5
}
